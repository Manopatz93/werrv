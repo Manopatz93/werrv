{
 "cells": [
  {
   "cell_type": "code",
   "execution_count": null,
   "id": "b1a852f1",
   "metadata": {},
   "outputs": [],
   "source": []
  },
  {
   "cell_type": "code",
   "execution_count": 2,
   "id": "9ebccdea",
   "metadata": {},
   "outputs": [],
   "source": [
    "# !pip3 install pyseoanalyzer"
   ]
  },
  {
   "cell_type": "code",
   "execution_count": null,
   "id": "e7b518c4",
   "metadata": {},
   "outputs": [],
   "source": []
  },
  {
   "cell_type": "code",
   "execution_count": 3,
   "id": "59410729",
   "metadata": {},
   "outputs": [
    {
     "name": "stdout",
     "output_type": "stream",
     "text": [
      "Package                 VersionNote: you may need to restart the kernel to use updated packages.\n",
      "\n",
      "----------------------- -----------\n",
      "absl-py                 0.15.0\n",
      "aiohttp                 3.8.1\n",
      "aiosignal               1.2.0\n",
      "ansi2html               1.8.0\n",
      "anyio                   3.5.0\n",
      "argon2-cffi             21.3.0\n",
      "argon2-cffi-bindings    21.2.0\n",
      "astunparse              1.6.3\n",
      "async-timeout           4.0.1\n",
      "asynctest               0.13.0\n",
      "attrs                   21.4.0\n",
      "Babel                   2.9.1\n",
      "backcall                0.2.0\n",
      "beautifulsoup4          4.11.1\n",
      "bleach                  4.1.0\n",
      "blinker                 1.4\n",
      "brotlipy                0.7.0\n",
      "cachetools              4.2.2\n",
      "category-encoders       2.5.1.post0\n",
      "certifi                 2022.9.24\n",
      "cffi                    1.15.1\n",
      "charset-normalizer      2.0.4\n",
      "click                   8.0.4\n",
      "colorama                0.4.5\n",
      "cryptography            37.0.1\n",
      "cycler                  0.11.0\n",
      "Cython                  3.0.0a11\n",
      "dash                    2.7.0\n",
      "dash-core-components    2.0.0\n",
      "dash-html-components    2.0.0\n",
      "dash-table              5.0.0\n",
      "debugpy                 1.5.1\n",
      "decorator               5.1.1\n",
      "defusedxml              0.7.1\n",
      "Deprecated              1.2.13\n",
      "entrypoints             0.4\n",
      "fastjsonschema          2.16.2\n",
      "Flask                   2.1.3\n",
      "Flask-Cors              3.0.10\n",
      "flatbuffers             2.0\n",
      "fonttools               4.37.2\n",
      "frozenlist              1.2.0\n",
      "gast                    0.5.3\n",
      "google-auth             2.6.0\n",
      "google-auth-oauthlib    0.4.4\n",
      "google-pasta            0.2.0\n",
      "grpcio                  1.42.0\n",
      "h5py                    3.7.0\n",
      "idna                    3.3\n",
      "imbalanced-learn        0.9.0\n",
      "importlib-metadata      5.0.0\n",
      "importlib-resources     5.2.0\n",
      "iplot                   0.0.0\n",
      "ipykernel               6.15.2\n",
      "ipython                 7.31.1\n",
      "ipython-genutils        0.2.0\n",
      "ipywidgets              8.0.2\n",
      "itsdangerous            2.1.2\n",
      "jedi                    0.18.1\n",
      "Jinja2                  3.0.3\n",
      "joblib                  1.2.0\n",
      "json5                   0.9.6\n",
      "jsonschema              4.4.0\n",
      "jupyter_client          7.3.5\n",
      "jupyter-core            4.10.0\n",
      "jupyter-dash            0.4.2\n",
      "jupyter-server          1.18.1\n",
      "jupyterlab              3.4.4\n",
      "jupyterlab-pygments     0.1.2\n",
      "jupyterlab-server       2.12.0\n",
      "jupyterlab-widgets      3.0.3\n",
      "kaleido                 0.2.1\n",
      "keras                   2.9.0\n",
      "Keras-Preprocessing     1.1.2\n",
      "kiwisolver              1.4.4\n",
      "lightgbm                3.3.3\n",
      "llvmlite                0.38.1\n",
      "lxml                    4.9.2\n",
      "Markdown                3.3.4\n",
      "MarkupSafe              2.1.1\n",
      "matplotlib              3.5.3\n",
      "matplotlib-inline       0.1.6\n",
      "mistune                 0.8.4\n",
      "mkl-fft                 1.3.1\n",
      "mkl-random              1.2.2\n",
      "mkl-service             2.4.0\n",
      "multidict               5.2.0\n",
      "nbclassic               0.3.5\n",
      "nbclient                0.5.13\n",
      "nbconvert               6.4.4\n",
      "nbformat                5.3.0\n",
      "neat-python             0.92\n",
      "nest-asyncio            1.5.5\n",
      "nltk                    3.7\n",
      "notebook                6.4.12\n",
      "numba                   0.55.2\n",
      "numpy                   1.21.5\n",
      "oauthlib                3.2.0\n",
      "opencv-python           4.6.0.66\n",
      "opt-einsum              3.3.0\n",
      "orjson                  3.8.2\n",
      "packaging               21.3\n",
      "pandas                  1.3.5\n",
      "pandocfilters           1.5.0\n",
      "parso                   0.8.3\n",
      "patsy                   0.5.3\n",
      "pickleshare             0.7.5\n",
      "Pillow                  9.2.0\n",
      "pip                     22.1.2\n",
      "plotly                  5.10.0\n",
      "plotly-resampler        0.8.2\n",
      "pmdarima                1.8.5\n",
      "prometheus-client       0.14.1\n",
      "prompt-toolkit          3.0.20\n",
      "protobuf                3.20.1\n",
      "psutil                  5.9.0\n",
      "pyasn1                  0.4.8\n",
      "pyasn1-modules          0.2.8\n",
      "pycaret                 3.0.0rc4\n",
      "pycparser               2.21\n",
      "pygame                  2.1.2\n",
      "Pygments                2.11.2\n",
      "PyJWT                   2.4.0\n",
      "pyod                    1.0.6\n",
      "pyOpenSSL               22.0.0\n",
      "pyparsing               3.0.9\n",
      "pyrsistent              0.18.0\n",
      "pyseoanalyzer           4.0.7\n",
      "PySocks                 1.7.1\n",
      "python-dateutil         2.8.2\n",
      "pytz                    2022.1\n",
      "pywin32                 302\n",
      "pywinpty                2.0.2\n",
      "PyYAML                  6.0\n",
      "pyzmq                   23.2.0\n",
      "regex                   2022.10.31\n",
      "requests                2.28.1\n",
      "requests-oauthlib       1.3.0\n",
      "retrying                1.3.3\n",
      "rfpimp                  1.3.7\n",
      "rsa                     4.7.2\n",
      "schemdraw               0.15\n",
      "scikit-learn            1.0.2\n",
      "scikit-plot             0.3.7\n",
      "scipy                   1.7.3\n",
      "seaborn                 0.12.0\n",
      "Send2Trash              1.8.0\n",
      "setuptools              63.4.1\n",
      "six                     1.16.0\n",
      "sktime                  0.13.4\n",
      "sniffio                 1.2.0\n",
      "soupsieve               2.3.1\n",
      "statsmodels             0.13.5\n",
      "tbats                   1.1.1\n",
      "tenacity                8.1.0\n",
      "tensorboard             2.9.0\n",
      "tensorboard-data-server 0.6.0\n",
      "tensorboard-plugin-wit  1.8.1\n",
      "tensorflow              2.9.1\n",
      "tensorflow-estimator    2.9.0\n",
      "termcolor               1.1.0\n",
      "terminado               0.13.1\n",
      "testpath                0.6.0\n",
      "threadpoolctl           3.1.0\n",
      "tornado                 6.2\n",
      "tqdm                    4.64.1\n",
      "trace-updater           0.0.9\n",
      "traitlets               5.1.1\n",
      "typing_extensions       4.3.0\n",
      "urllib3                 1.26.11\n",
      "wcwidth                 0.2.5\n",
      "webencodings            0.5.1\n",
      "websocket-client        0.58.0\n",
      "Werkzeug                2.1.2\n",
      "wheel                   0.37.1\n",
      "widgetsnbextension      4.0.3\n",
      "win-inet-pton           1.1.0\n",
      "wincertstore            0.2\n",
      "wrapt                   1.14.1\n",
      "yarl                    1.8.1\n",
      "yellowbrick             1.5\n",
      "zipp                    3.8.0\n"
     ]
    }
   ],
   "source": [
    "pip list"
   ]
  },
  {
   "cell_type": "code",
   "execution_count": 3,
   "id": "fb01a33b",
   "metadata": {},
   "outputs": [],
   "source": [
    "from seoanalyzer import analyze "
   ]
  },
  {
   "cell_type": "code",
   "execution_count": 4,
   "id": "8382f05f",
   "metadata": {},
   "outputs": [],
   "source": [
    "site= \"https://www2.kickassanime.ro/\""
   ]
  },
  {
   "cell_type": "code",
   "execution_count": 5,
   "id": "cbfa43e7",
   "metadata": {},
   "outputs": [],
   "source": [
    "# site_map= \"https://casereads.com/sitemap/\""
   ]
  },
  {
   "cell_type": "code",
   "execution_count": 6,
   "id": "0528f88a",
   "metadata": {},
   "outputs": [],
   "source": [
    "output= analyze(site)"
   ]
  },
  {
   "cell_type": "code",
   "execution_count": 7,
   "id": "1b6de34f",
   "metadata": {},
   "outputs": [
    {
     "name": "stdout",
     "output_type": "stream",
     "text": [
      "{'pages': [{'url': 'https://www2.kickassanime.ro/', 'title': 'just a moment...', 'description': '', 'word_count': 38, 'keywords': [], 'bigrams': Counter({'www2 kickassanime': 2, 'kickassanime ro': 2, 'just moment': 1, 'moment www2': 1, 'ro checking': 1, 'checking if': 1, 'if the': 1, 'the site': 1, 'site connection': 1, 'connection is': 1, 'is secure': 1, 'secure enable': 1, 'enable javascript': 1, 'javascript and': 1, 'and cookies': 1, 'cookies to': 1, 'to continue': 1, 'continue www2': 1, 'ro needs': 1, 'needs to': 1, 'to review': 1, 'review the': 1, 'the security': 1, 'security of': 1, 'of your': 1, 'your connection': 1, 'connection before': 1, 'before proceeding': 1, 'proceeding ray': 1, 'ray id': 1, 'id 78bfeb860d80e157': 1, '78bfeb860d80e157 performance': 1, 'performance security': 1, 'security by': 1, 'by cloudflare': 1}), 'trigrams': Counter({'www2 kickassanime ro': 2, 'just moment www2': 1, 'moment www2 kickassanime': 1, 'kickassanime ro checking': 1, 'ro checking if': 1, 'checking if the': 1, 'if the site': 1, 'the site connection': 1, 'site connection is': 1, 'connection is secure': 1, 'is secure enable': 1, 'secure enable javascript': 1, 'enable javascript and': 1, 'javascript and cookies': 1, 'and cookies to': 1, 'cookies to continue': 1, 'to continue www2': 1, 'continue www2 kickassanime': 1, 'kickassanime ro needs': 1, 'ro needs to': 1, 'needs to review': 1, 'to review the': 1, 'review the security': 1, 'the security of': 1, 'security of your': 1, 'of your connection': 1, 'your connection before': 1, 'connection before proceeding': 1, 'before proceeding ray': 1, 'proceeding ray id': 1, 'ray id 78bfeb860d80e157': 1, 'id 78bfeb860d80e157 performance': 1, '78bfeb860d80e157 performance security': 1, 'performance security by': 1, 'security by cloudflare': 1}), 'warnings': ['Missing description', 'Missing og:title', 'Missing og:description', 'Missing og:image', 'Anchor missing title tag: https://www.cloudflare.com?utm_source=challenge&utm_campaign=m', 'Image missing alt tag: <img class=\"heading-favicon\" onerror=\"this.onerror=null;this.parentnode.removechild(this)\" src=\"/favicon.ico\"/>'], 'content_hash': 'b722543d93728ce7a0193ace41bd9cd352d81f92'}], 'keywords': [], 'errors': [], 'total_time': 0.15485835075378418, 'duplicate_pages': []}\n"
     ]
    }
   ],
   "source": [
    "print(output)"
   ]
  },
  {
   "cell_type": "code",
   "execution_count": 8,
   "id": "9ca6ef80",
   "metadata": {},
   "outputs": [],
   "source": [
    "#identify which section of the site aree linked to the mmost . does this impact performance are there sections we can inmprove\n",
    "# internal linking analysis"
   ]
  },
  {
   "cell_type": "code",
   "execution_count": 9,
   "id": "9c2d0dfb",
   "metadata": {},
   "outputs": [],
   "source": [
    "# web crawling based on url in order to find which links is"
   ]
  },
  {
   "cell_type": "code",
   "execution_count": 10,
   "id": "1f706fc0",
   "metadata": {},
   "outputs": [],
   "source": [
    "# give reports based on average links in count and deeprank along with level(check for co relation)"
   ]
  },
  {
   "cell_type": "code",
   "execution_count": 11,
   "id": "bff5ca76",
   "metadata": {},
   "outputs": [],
   "source": [
    "# intro to the ml in seo"
   ]
  },
  {
   "cell_type": "code",
   "execution_count": 1,
   "id": "4afbfbd2",
   "metadata": {},
   "outputs": [],
   "source": [
    "# evaluating content quality \n",
    "# log filel analysis\n",
    "# prefictive analysis\n",
    "# user engagement insights \n",
    "# title tag optimisation\n",
    "# audio transcribing"
   ]
  },
  {
   "cell_type": "code",
   "execution_count": 13,
   "id": "dc6fe42f",
   "metadata": {},
   "outputs": [],
   "source": [
    "# internal linking -\n",
    "# crawl to identify broken internal links\n",
    "# algorithm to suggest the most accurate replacement page\n",
    "# replace broken intenal links"
   ]
  },
  {
   "cell_type": "code",
   "execution_count": 14,
   "id": "0c662c8f",
   "metadata": {},
   "outputs": [],
   "source": [
    "# you can tale a url and essentially extract the entities and categories from them"
   ]
  },
  {
   "cell_type": "code",
   "execution_count": 15,
   "id": "35b99204",
   "metadata": {},
   "outputs": [],
   "source": [
    "# NLP,SPACY\n",
    "# SEO\n",
    "# SCRAPPY"
   ]
  },
  {
   "cell_type": "code",
   "execution_count": 16,
   "id": "2772a8a0",
   "metadata": {},
   "outputs": [],
   "source": [
    "# NLP - TOKENIZATION"
   ]
  },
  {
   "cell_type": "code",
   "execution_count": 17,
   "id": "d7048e13",
   "metadata": {},
   "outputs": [],
   "source": [
    "import os\n",
    "import nltk"
   ]
  },
  {
   "cell_type": "code",
   "execution_count": 18,
   "id": "c06c6fdc",
   "metadata": {},
   "outputs": [],
   "source": [
    "import nltk.corpus"
   ]
  },
  {
   "cell_type": "code",
   "execution_count": 19,
   "id": "32533b0c",
   "metadata": {},
   "outputs": [
    {
     "name": "stdout",
     "output_type": "stream",
     "text": [
      "['abc', 'abc.zip', 'alpino', 'alpino.zip', 'bcp47.zip', 'biocreative_ppi', 'biocreative_ppi.zip', 'brown', 'brown.zip', 'brown_tei', 'brown_tei.zip', 'cess_cat', 'cess_cat.zip', 'cess_esp', 'cess_esp.zip', 'chat80', 'chat80.zip', 'city_database', 'city_database.zip', 'cmudict', 'cmudict.zip', 'comparative_sentences', 'comparative_sentences.zip', 'comtrans.zip', 'conll2000', 'conll2000.zip', 'conll2002', 'conll2002.zip', 'conll2007.zip', 'crubadan', 'crubadan.zip', 'dependency_treebank', 'dependency_treebank.zip', 'dolch', 'dolch.zip', 'europarl_raw', 'europarl_raw.zip', 'extended_omw.zip', 'floresta', 'floresta.zip', 'framenet_v15', 'framenet_v15.zip', 'framenet_v17', 'framenet_v17.zip', 'gazetteers', 'gazetteers.zip', 'genesis', 'genesis.zip', 'gutenberg', 'gutenberg.zip', 'ieer', 'ieer.zip', 'inaugural', 'inaugural.zip', 'indian', 'indian.zip', 'jeita.zip', 'kimmo', 'kimmo.zip', 'knbc.zip', 'lin_thesaurus', 'lin_thesaurus.zip', 'machado.zip', 'mac_morpho', 'mac_morpho.zip', 'masc_tagged.zip', 'movie_reviews', 'movie_reviews.zip', 'mte_teip5', 'mte_teip5.zip', 'names', 'names.zip', 'nombank.1.0.zip', 'nonbreaking_prefixes', 'nonbreaking_prefixes.zip', 'nps_chat', 'nps_chat.zip', 'omw-1.4.zip', 'omw.zip', 'opinion_lexicon', 'opinion_lexicon.zip', 'panlex_swadesh.zip', 'paradigms', 'paradigms.zip', 'pe08', 'pe08.zip', 'pil', 'pil.zip', 'pl196x', 'pl196x.zip', 'ppattach', 'ppattach.zip', 'problem_reports', 'problem_reports.zip', 'product_reviews_1', 'product_reviews_1.zip', 'product_reviews_2', 'product_reviews_2.zip', 'propbank.zip', 'pros_cons', 'pros_cons.zip', 'ptb', 'ptb.zip', 'qc', 'qc.zip', 'reuters.zip', 'rte', 'rte.zip', 'semcor.zip', 'senseval', 'senseval.zip', 'sentence_polarity', 'sentence_polarity.zip', 'sentiwordnet', 'sentiwordnet.zip', 'shakespeare', 'shakespeare.zip', 'sinica_treebank', 'sinica_treebank.zip', 'smultron', 'smultron.zip', 'state_union', 'state_union.zip', 'stopwords', 'stopwords.zip', 'subjectivity', 'subjectivity.zip', 'swadesh', 'swadesh.zip', 'switchboard', 'switchboard.zip', 'timit', 'timit.zip', 'toolbox', 'toolbox.zip', 'treebank', 'treebank.zip', 'twitter_samples', 'twitter_samples.zip', 'udhr', 'udhr.zip', 'udhr2', 'udhr2.zip', 'unicode_samples', 'unicode_samples.zip', 'universal_treebanks_v20.zip', 'verbnet', 'verbnet.zip', 'verbnet3', 'verbnet3.zip', 'webtext', 'webtext.zip', 'wordnet.zip', 'wordnet2021.zip', 'wordnet31.zip', 'wordnet_ic', 'wordnet_ic.zip', 'words', 'words.zip', 'ycoe', 'ycoe.zip']\n"
     ]
    }
   ],
   "source": [
    "print(os.listdir(nltk.data.find(\"corpora\")))"
   ]
  },
  {
   "cell_type": "code",
   "execution_count": 20,
   "id": "1348f472",
   "metadata": {},
   "outputs": [],
   "source": [
    "# nltk.download()"
   ]
  },
  {
   "cell_type": "code",
   "execution_count": 21,
   "id": "1e9a6261",
   "metadata": {},
   "outputs": [
    {
     "data": {
      "text/plain": [
       "['The', 'Fulton', 'County', 'Grand', 'Jury', 'said', ...]"
      ]
     },
     "execution_count": 21,
     "metadata": {},
     "output_type": "execute_result"
    }
   ],
   "source": [
    "from nltk.corpus import brown\n",
    "brown.words()"
   ]
  },
  {
   "cell_type": "code",
   "execution_count": 22,
   "id": "ccf77ecd",
   "metadata": {},
   "outputs": [
    {
     "data": {
      "text/plain": [
       "['austen-emma.txt',\n",
       " 'austen-persuasion.txt',\n",
       " 'austen-sense.txt',\n",
       " 'bible-kjv.txt',\n",
       " 'blake-poems.txt',\n",
       " 'bryant-stories.txt',\n",
       " 'burgess-busterbrown.txt',\n",
       " 'carroll-alice.txt',\n",
       " 'chesterton-ball.txt',\n",
       " 'chesterton-brown.txt',\n",
       " 'chesterton-thursday.txt',\n",
       " 'edgeworth-parents.txt',\n",
       " 'melville-moby_dick.txt',\n",
       " 'milton-paradise.txt',\n",
       " 'shakespeare-caesar.txt',\n",
       " 'shakespeare-hamlet.txt',\n",
       " 'shakespeare-macbeth.txt',\n",
       " 'whitman-leaves.txt']"
      ]
     },
     "execution_count": 22,
     "metadata": {},
     "output_type": "execute_result"
    }
   ],
   "source": [
    "nltk.corpus.gutenberg.fileids()"
   ]
  },
  {
   "cell_type": "code",
   "execution_count": 23,
   "id": "4622c9b7",
   "metadata": {},
   "outputs": [
    {
     "data": {
      "text/plain": [
       "['[', 'The', 'Tragedie', 'of', 'Hamlet', 'by', ...]"
      ]
     },
     "execution_count": 23,
     "metadata": {},
     "output_type": "execute_result"
    }
   ],
   "source": [
    "hamlet=nltk.corpus.gutenberg.words('shakespeare-hamlet.txt')\n",
    "hamlet"
   ]
  },
  {
   "cell_type": "code",
   "execution_count": 24,
   "id": "83e5fac0",
   "metadata": {
    "scrolled": true
   },
   "outputs": [
    {
     "name": "stdout",
     "output_type": "stream",
     "text": [
      "[ The Tragedie of Hamlet by William Shakespeare 1599 ] Actus Primus . Scoena Prima . Enter Barnardo and Francisco two Centinels . Barnardo . Who ' s there ? Fran . Nay answer me : Stand & vnfold your selfe Bar . Long liue the King Fran . Barnardo ? Bar . He Fran . You come most carefully vpon your houre Bar . ' Tis now strook twelue , get thee to bed Francisco Fran . For this releefe much thankes : ' Tis bitter cold , And I am sicke at heart Barn . Haue you had quiet Guard ? Fran . Not a Mouse stirring Barn . Well , goodnight . If you do meet Horatio and Marcellus , the Riuals of my Watch , bid them make hast . Enter Horatio and Marcellus . Fran . I thinke I heare them . Stand : who ' s there ? Hor . Friends to this ground Mar . And Leige - men to the Dane Fran . Giue you good night Mar . O farwel honest Soldier , who hath relieu ' d you ? Fra . Barnardo ha ' s my place : giue you goodnight . Exit Fran . Mar . Holla Barnardo Bar . Say , what is Horatio there ? Hor . A peece of him Bar . Welcome Horatio , welcome good Marcellus Mar . What , ha ' s this thing appear ' d againe to night Bar . I haue seene nothing Mar . Horatio saies , ' tis but our Fantasie , And will not let beleefe take hold of him Touching this dreaded sight , twice seene of vs , Therefore I haue intreated him along With vs , to watch the minutes of this Night , That if againe this Apparition come , He may approue our eyes , and speake to it Hor . Tush , tush , ' twill not appeare Bar . Sit downe a - while , And let vs once againe assaile your eares , That are so fortified against our Story , What we two Nights haue seene Hor . Well , sit we downe , And let vs heare Barnardo speake of this Barn . Last night of all , When yond same Starre that ' s Westward from the Pole Had made his course t ' illume that part of Heauen Where now it burnes , Marcellus and my selfe , The Bell then beating one Mar . Peace , breake thee of : Enter the Ghost . Looke where it comes againe Barn . In the same figure , like the King that ' s dead Mar . Thou art a Scholler ; speake to it Horatio Barn . Lookes it not like the King ? Marke it Horatio Hora . Most like : It harrowes me with fear & wonder Barn . It would be spoke too Mar . Question it Horatio Hor . What art "
     ]
    }
   ],
   "source": [
    "for word in hamlet[:500]:\n",
    "    print(word,sep=\" \",end=\" \")"
   ]
  },
  {
   "cell_type": "code",
   "execution_count": 25,
   "id": "53c0cd2e",
   "metadata": {},
   "outputs": [],
   "source": [
    "mano= hamlet[:10]"
   ]
  },
  {
   "cell_type": "code",
   "execution_count": 26,
   "id": "61e0117f",
   "metadata": {},
   "outputs": [
    {
     "data": {
      "text/plain": [
       "['[',\n",
       " 'The',\n",
       " 'Tragedie',\n",
       " 'of',\n",
       " 'Hamlet',\n",
       " 'by',\n",
       " 'William',\n",
       " 'Shakespeare',\n",
       " '1599',\n",
       " ']']"
      ]
     },
     "execution_count": 26,
     "metadata": {},
     "output_type": "execute_result"
    }
   ],
   "source": [
    "mano"
   ]
  },
  {
   "cell_type": "code",
   "execution_count": 27,
   "id": "e1d2a9bc",
   "metadata": {},
   "outputs": [],
   "source": [
    "AI= \"\"\"What is Artificial Intelligence: A Brief History of AI Artificial Intelligence Types What Is the Process of Artificial Intelligence? AI Implementation Methods See More. Artificial intelligence (AI) is one of the most popular terms in technology, and for good reason. Several inventions and developments that were previously only possible in science fiction have gradually become a reality in recent years.Artificial intelligence is viewed as a factor of production by experts, with the ability to provide new sources of growth and modify the way work is done across sectors. For example, according to this PWC report, AI might contribute $15.7 trillion to the global economy by 2035. China and the United States stand to gain the most from the coming AI boom, accounting for nearly 70% of the global impact.\"\"\""
   ]
  },
  {
   "cell_type": "code",
   "execution_count": 28,
   "id": "ddd3171c",
   "metadata": {},
   "outputs": [
    {
     "data": {
      "text/plain": [
       "str"
      ]
     },
     "execution_count": 28,
     "metadata": {},
     "output_type": "execute_result"
    }
   ],
   "source": [
    "type(AI)"
   ]
  },
  {
   "cell_type": "code",
   "execution_count": 29,
   "id": "da8695d9",
   "metadata": {},
   "outputs": [],
   "source": [
    "from nltk.tokenize import word_tokenize"
   ]
  },
  {
   "cell_type": "code",
   "execution_count": 30,
   "id": "0de62b1f",
   "metadata": {},
   "outputs": [
    {
     "data": {
      "text/plain": [
       "['What',\n",
       " 'is',\n",
       " 'Artificial',\n",
       " 'Intelligence',\n",
       " ':',\n",
       " 'A',\n",
       " 'Brief',\n",
       " 'History',\n",
       " 'of',\n",
       " 'AI',\n",
       " 'Artificial',\n",
       " 'Intelligence',\n",
       " 'Types',\n",
       " 'What',\n",
       " 'Is',\n",
       " 'the',\n",
       " 'Process',\n",
       " 'of',\n",
       " 'Artificial',\n",
       " 'Intelligence',\n",
       " '?',\n",
       " 'AI',\n",
       " 'Implementation',\n",
       " 'Methods',\n",
       " 'See',\n",
       " 'More',\n",
       " '.',\n",
       " 'Artificial',\n",
       " 'intelligence',\n",
       " '(',\n",
       " 'AI',\n",
       " ')',\n",
       " 'is',\n",
       " 'one',\n",
       " 'of',\n",
       " 'the',\n",
       " 'most',\n",
       " 'popular',\n",
       " 'terms',\n",
       " 'in',\n",
       " 'technology',\n",
       " ',',\n",
       " 'and',\n",
       " 'for',\n",
       " 'good',\n",
       " 'reason',\n",
       " '.',\n",
       " 'Several',\n",
       " 'inventions',\n",
       " 'and',\n",
       " 'developments',\n",
       " 'that',\n",
       " 'were',\n",
       " 'previously',\n",
       " 'only',\n",
       " 'possible',\n",
       " 'in',\n",
       " 'science',\n",
       " 'fiction',\n",
       " 'have',\n",
       " 'gradually',\n",
       " 'become',\n",
       " 'a',\n",
       " 'reality',\n",
       " 'in',\n",
       " 'recent',\n",
       " 'years.Artificial',\n",
       " 'intelligence',\n",
       " 'is',\n",
       " 'viewed',\n",
       " 'as',\n",
       " 'a',\n",
       " 'factor',\n",
       " 'of',\n",
       " 'production',\n",
       " 'by',\n",
       " 'experts',\n",
       " ',',\n",
       " 'with',\n",
       " 'the',\n",
       " 'ability',\n",
       " 'to',\n",
       " 'provide',\n",
       " 'new',\n",
       " 'sources',\n",
       " 'of',\n",
       " 'growth',\n",
       " 'and',\n",
       " 'modify',\n",
       " 'the',\n",
       " 'way',\n",
       " 'work',\n",
       " 'is',\n",
       " 'done',\n",
       " 'across',\n",
       " 'sectors',\n",
       " '.',\n",
       " 'For',\n",
       " 'example',\n",
       " ',',\n",
       " 'according',\n",
       " 'to',\n",
       " 'this',\n",
       " 'PWC',\n",
       " 'report',\n",
       " ',',\n",
       " 'AI',\n",
       " 'might',\n",
       " 'contribute',\n",
       " '$',\n",
       " '15.7',\n",
       " 'trillion',\n",
       " 'to',\n",
       " 'the',\n",
       " 'global',\n",
       " 'economy',\n",
       " 'by',\n",
       " '2035',\n",
       " '.',\n",
       " 'China',\n",
       " 'and',\n",
       " 'the',\n",
       " 'United',\n",
       " 'States',\n",
       " 'stand',\n",
       " 'to',\n",
       " 'gain',\n",
       " 'the',\n",
       " 'most',\n",
       " 'from',\n",
       " 'the',\n",
       " 'coming',\n",
       " 'AI',\n",
       " 'boom',\n",
       " ',',\n",
       " 'accounting',\n",
       " 'for',\n",
       " 'nearly',\n",
       " '70',\n",
       " '%',\n",
       " 'of',\n",
       " 'the',\n",
       " 'global',\n",
       " 'impact',\n",
       " '.']"
      ]
     },
     "execution_count": 30,
     "metadata": {},
     "output_type": "execute_result"
    }
   ],
   "source": [
    "ai_tokens= word_tokenize(AI)\n",
    "ai_tokens"
   ]
  },
  {
   "cell_type": "code",
   "execution_count": 31,
   "id": "b26c37cb",
   "metadata": {},
   "outputs": [],
   "source": [
    "# nltk.download('punkt')"
   ]
  },
  {
   "cell_type": "code",
   "execution_count": 32,
   "id": "e76933e9",
   "metadata": {},
   "outputs": [
    {
     "data": {
      "text/plain": [
       "145"
      ]
     },
     "execution_count": 32,
     "metadata": {},
     "output_type": "execute_result"
    }
   ],
   "source": [
    "len(ai_tokens)"
   ]
  },
  {
   "cell_type": "code",
   "execution_count": 33,
   "id": "cea18ca2",
   "metadata": {},
   "outputs": [],
   "source": [
    "from nltk.probability import FreqDist\n",
    "fdist= FreqDist()"
   ]
  },
  {
   "cell_type": "code",
   "execution_count": 37,
   "id": "5463603c",
   "metadata": {},
   "outputs": [
    {
     "data": {
      "text/plain": [
       "FreqDist({'art': 145, 'the': 9, 'of': 6, 'is': 5, 'intelligence': 5, 'ai': 5, '.': 5, ',': 5, 'artificial': 4, 'and': 4, ...})"
      ]
     },
     "execution_count": 37,
     "metadata": {},
     "output_type": "execute_result"
    }
   ],
   "source": [
    "for words in ai_tokens:\n",
    "    fdist[words.lower()]+=1\n",
    "fdist    "
   ]
  },
  {
   "cell_type": "code",
   "execution_count": 40,
   "id": "4191b23e",
   "metadata": {},
   "outputs": [
    {
     "data": {
      "text/plain": [
       "94"
      ]
     },
     "execution_count": 40,
     "metadata": {},
     "output_type": "execute_result"
    }
   ],
   "source": [
    "len(fdist)"
   ]
  },
  {
   "cell_type": "code",
   "execution_count": 42,
   "id": "3dd4d37d",
   "metadata": {},
   "outputs": [
    {
     "data": {
      "text/plain": [
       "[('art', 145),\n",
       " ('the', 9),\n",
       " ('of', 6),\n",
       " ('is', 5),\n",
       " ('intelligence', 5),\n",
       " ('ai', 5),\n",
       " ('.', 5),\n",
       " (',', 5),\n",
       " ('artificial', 4),\n",
       " ('and', 4)]"
      ]
     },
     "execution_count": 42,
     "metadata": {},
     "output_type": "execute_result"
    }
   ],
   "source": [
    "fdist_10= fdist.most_common(10)\n",
    "fdist_10"
   ]
  },
  {
   "cell_type": "code",
   "execution_count": 49,
   "id": "650988db",
   "metadata": {},
   "outputs": [
    {
     "data": {
      "text/plain": [
       "1"
      ]
     },
     "execution_count": 49,
     "metadata": {},
     "output_type": "execute_result"
    }
   ],
   "source": [
    "from nltk.tokenize import blankline_tokenize\n",
    "ai_blank= blankline_tokenize(AI)\n",
    "len(ai_blank)"
   ]
  },
  {
   "cell_type": "code",
   "execution_count": 43,
   "id": "078e8369",
   "metadata": {},
   "outputs": [],
   "source": [
    "from nltk.util import bigrams, trigrams, ngrams"
   ]
  },
  {
   "cell_type": "code",
   "execution_count": 44,
   "id": "8b136a0f",
   "metadata": {},
   "outputs": [],
   "source": [
    "string = \"the best and beautiful things in the world cannot be seen  or even touched , they must be felt with the heart\""
   ]
  },
  {
   "cell_type": "code",
   "execution_count": 46,
   "id": "4c26fd1f",
   "metadata": {},
   "outputs": [
    {
     "data": {
      "text/plain": [
       "['the',\n",
       " 'best',\n",
       " 'and',\n",
       " 'beautiful',\n",
       " 'things',\n",
       " 'in',\n",
       " 'the',\n",
       " 'world',\n",
       " 'can',\n",
       " 'not',\n",
       " 'be',\n",
       " 'seen',\n",
       " 'or',\n",
       " 'even',\n",
       " 'touched',\n",
       " ',',\n",
       " 'they',\n",
       " 'must',\n",
       " 'be',\n",
       " 'felt',\n",
       " 'with',\n",
       " 'the',\n",
       " 'heart']"
      ]
     },
     "execution_count": 46,
     "metadata": {},
     "output_type": "execute_result"
    }
   ],
   "source": [
    "quotes_tokens= nltk.word_tokenize(string)\n",
    "quotes_tokens\n"
   ]
  },
  {
   "cell_type": "code",
   "execution_count": 50,
   "id": "3ebbbb8a",
   "metadata": {},
   "outputs": [
    {
     "data": {
      "text/plain": [
       "[('the', 'best'),\n",
       " ('best', 'and'),\n",
       " ('and', 'beautiful'),\n",
       " ('beautiful', 'things'),\n",
       " ('things', 'in'),\n",
       " ('in', 'the'),\n",
       " ('the', 'world'),\n",
       " ('world', 'can'),\n",
       " ('can', 'not'),\n",
       " ('not', 'be'),\n",
       " ('be', 'seen'),\n",
       " ('seen', 'or'),\n",
       " ('or', 'even'),\n",
       " ('even', 'touched'),\n",
       " ('touched', ','),\n",
       " (',', 'they'),\n",
       " ('they', 'must'),\n",
       " ('must', 'be'),\n",
       " ('be', 'felt'),\n",
       " ('felt', 'with'),\n",
       " ('with', 'the'),\n",
       " ('the', 'heart')]"
      ]
     },
     "execution_count": 50,
     "metadata": {},
     "output_type": "execute_result"
    }
   ],
   "source": [
    "quotes_bigram= list(nltk.bigrams(quotes_tokens))\n",
    "quotes_bigram"
   ]
  },
  {
   "cell_type": "code",
   "execution_count": 51,
   "id": "0093406b",
   "metadata": {},
   "outputs": [
    {
     "data": {
      "text/plain": [
       "[('the', 'best', 'and'),\n",
       " ('best', 'and', 'beautiful'),\n",
       " ('and', 'beautiful', 'things'),\n",
       " ('beautiful', 'things', 'in'),\n",
       " ('things', 'in', 'the'),\n",
       " ('in', 'the', 'world'),\n",
       " ('the', 'world', 'can'),\n",
       " ('world', 'can', 'not'),\n",
       " ('can', 'not', 'be'),\n",
       " ('not', 'be', 'seen'),\n",
       " ('be', 'seen', 'or'),\n",
       " ('seen', 'or', 'even'),\n",
       " ('or', 'even', 'touched'),\n",
       " ('even', 'touched', ','),\n",
       " ('touched', ',', 'they'),\n",
       " (',', 'they', 'must'),\n",
       " ('they', 'must', 'be'),\n",
       " ('must', 'be', 'felt'),\n",
       " ('be', 'felt', 'with'),\n",
       " ('felt', 'with', 'the'),\n",
       " ('with', 'the', 'heart')]"
      ]
     },
     "execution_count": 51,
     "metadata": {},
     "output_type": "execute_result"
    }
   ],
   "source": [
    "quotes_trigram= list(nltk.trigrams(quotes_tokens))\n",
    "quotes_trigram"
   ]
  },
  {
   "cell_type": "code",
   "execution_count": 53,
   "id": "be1d0de6",
   "metadata": {},
   "outputs": [
    {
     "data": {
      "text/plain": [
       "[('the', 'best', 'and', 'beautiful', 'things'),\n",
       " ('best', 'and', 'beautiful', 'things', 'in'),\n",
       " ('and', 'beautiful', 'things', 'in', 'the'),\n",
       " ('beautiful', 'things', 'in', 'the', 'world'),\n",
       " ('things', 'in', 'the', 'world', 'can'),\n",
       " ('in', 'the', 'world', 'can', 'not'),\n",
       " ('the', 'world', 'can', 'not', 'be'),\n",
       " ('world', 'can', 'not', 'be', 'seen'),\n",
       " ('can', 'not', 'be', 'seen', 'or'),\n",
       " ('not', 'be', 'seen', 'or', 'even'),\n",
       " ('be', 'seen', 'or', 'even', 'touched'),\n",
       " ('seen', 'or', 'even', 'touched', ','),\n",
       " ('or', 'even', 'touched', ',', 'they'),\n",
       " ('even', 'touched', ',', 'they', 'must'),\n",
       " ('touched', ',', 'they', 'must', 'be'),\n",
       " (',', 'they', 'must', 'be', 'felt'),\n",
       " ('they', 'must', 'be', 'felt', 'with'),\n",
       " ('must', 'be', 'felt', 'with', 'the'),\n",
       " ('be', 'felt', 'with', 'the', 'heart')]"
      ]
     },
     "execution_count": 53,
     "metadata": {},
     "output_type": "execute_result"
    }
   ],
   "source": [
    "quotes_ngram= list(nltk.ngrams(quotes_tokens,5))\n",
    "quotes_ngram"
   ]
  },
  {
   "cell_type": "code",
   "execution_count": 54,
   "id": "ebd1350d",
   "metadata": {},
   "outputs": [],
   "source": [
    "# STEMMING : Its is used to normalise the words into its base form or root form"
   ]
  },
  {
   "cell_type": "code",
   "execution_count": 55,
   "id": "141b61b7",
   "metadata": {},
   "outputs": [],
   "source": [
    "from nltk.stem import PorterStemmer\n",
    "pst= PorterStemmer()"
   ]
  },
  {
   "cell_type": "code",
   "execution_count": 57,
   "id": "e6ffbfb3",
   "metadata": {},
   "outputs": [
    {
     "data": {
      "text/plain": [
       "'have'"
      ]
     },
     "execution_count": 57,
     "metadata": {},
     "output_type": "execute_result"
    }
   ],
   "source": [
    "pst.stem(\"having\")"
   ]
  },
  {
   "cell_type": "code",
   "execution_count": 58,
   "id": "0f57e5a1",
   "metadata": {},
   "outputs": [
    {
     "name": "stdout",
     "output_type": "stream",
     "text": [
      "give:give\n",
      "giving:give\n",
      "given:given\n",
      "gave:gave\n"
     ]
    }
   ],
   "source": [
    "j=[\"give\",\"giving\",\"given\",\"gave\"]\n",
    "for i in j:\n",
    "    print(i+\":\"+pst.stem(i))"
   ]
  },
  {
   "cell_type": "code",
   "execution_count": 59,
   "id": "75b14ba3",
   "metadata": {},
   "outputs": [],
   "source": [
    "from nltk.stem import LancasterStemmer\n",
    "lst= LancasterStemmer()"
   ]
  },
  {
   "cell_type": "code",
   "execution_count": 60,
   "id": "4c21650f",
   "metadata": {},
   "outputs": [
    {
     "name": "stdout",
     "output_type": "stream",
     "text": [
      "give:giv\n",
      "giving:giv\n",
      "given:giv\n",
      "gave:gav\n"
     ]
    }
   ],
   "source": [
    "j=[\"give\",\"giving\",\"given\",\"gave\"]\n",
    "for i in j:\n",
    "    print(i+\":\"+lst.stem(i))"
   ]
  },
  {
   "cell_type": "code",
   "execution_count": 61,
   "id": "c39c3826",
   "metadata": {},
   "outputs": [],
   "source": [
    "from nltk.stem import SnowballStemmer\n",
    "sbst= SnowballStemmer(\"english\")"
   ]
  },
  {
   "cell_type": "code",
   "execution_count": 62,
   "id": "f8a39535",
   "metadata": {},
   "outputs": [
    {
     "name": "stdout",
     "output_type": "stream",
     "text": [
      "give:give\n",
      "giving:give\n",
      "given:given\n",
      "gave:gave\n"
     ]
    }
   ],
   "source": [
    "j=[\"give\",\"giving\",\"given\",\"gave\"]\n",
    "for i in j:\n",
    "    print(i+\":\"+sbst.stem(i))"
   ]
  },
  {
   "cell_type": "code",
   "execution_count": 63,
   "id": "8c99b0cf",
   "metadata": {},
   "outputs": [],
   "source": [
    "# lemmatization: group similar word into its original form"
   ]
  },
  {
   "cell_type": "code",
   "execution_count": 64,
   "id": "a5f0a2d1",
   "metadata": {},
   "outputs": [],
   "source": [
    "from nltk.stem import wordnet\n",
    "from nltk.stem import WordNetLemmatizer\n",
    "word_lem= WordNetLemmatizer()\n"
   ]
  },
  {
   "cell_type": "code",
   "execution_count": 67,
   "id": "3533b5d3",
   "metadata": {},
   "outputs": [
    {
     "name": "stdout",
     "output_type": "stream",
     "text": [
      "give:give\n",
      "giving:giving\n",
      "given:given\n",
      "gave:gave\n"
     ]
    }
   ],
   "source": [
    "j=[\"give\",\"giving\",\"given\",\"gave\"]\n",
    "for i in j:\n",
    "    print(i+\":\"+word_lem.lemmatize(i))"
   ]
  },
  {
   "cell_type": "code",
   "execution_count": 68,
   "id": "b910dfb8",
   "metadata": {},
   "outputs": [],
   "source": [
    "# stop words\n",
    "from nltk.corpus import stopwords"
   ]
  },
  {
   "cell_type": "code",
   "execution_count": 69,
   "id": "ddc0e9b7",
   "metadata": {},
   "outputs": [
    {
     "data": {
      "text/plain": [
       "['i',\n",
       " 'me',\n",
       " 'my',\n",
       " 'myself',\n",
       " 'we',\n",
       " 'our',\n",
       " 'ours',\n",
       " 'ourselves',\n",
       " 'you',\n",
       " \"you're\",\n",
       " \"you've\",\n",
       " \"you'll\",\n",
       " \"you'd\",\n",
       " 'your',\n",
       " 'yours',\n",
       " 'yourself',\n",
       " 'yourselves',\n",
       " 'he',\n",
       " 'him',\n",
       " 'his',\n",
       " 'himself',\n",
       " 'she',\n",
       " \"she's\",\n",
       " 'her',\n",
       " 'hers',\n",
       " 'herself',\n",
       " 'it',\n",
       " \"it's\",\n",
       " 'its',\n",
       " 'itself',\n",
       " 'they',\n",
       " 'them',\n",
       " 'their',\n",
       " 'theirs',\n",
       " 'themselves',\n",
       " 'what',\n",
       " 'which',\n",
       " 'who',\n",
       " 'whom',\n",
       " 'this',\n",
       " 'that',\n",
       " \"that'll\",\n",
       " 'these',\n",
       " 'those',\n",
       " 'am',\n",
       " 'is',\n",
       " 'are',\n",
       " 'was',\n",
       " 'were',\n",
       " 'be',\n",
       " 'been',\n",
       " 'being',\n",
       " 'have',\n",
       " 'has',\n",
       " 'had',\n",
       " 'having',\n",
       " 'do',\n",
       " 'does',\n",
       " 'did',\n",
       " 'doing',\n",
       " 'a',\n",
       " 'an',\n",
       " 'the',\n",
       " 'and',\n",
       " 'but',\n",
       " 'if',\n",
       " 'or',\n",
       " 'because',\n",
       " 'as',\n",
       " 'until',\n",
       " 'while',\n",
       " 'of',\n",
       " 'at',\n",
       " 'by',\n",
       " 'for',\n",
       " 'with',\n",
       " 'about',\n",
       " 'against',\n",
       " 'between',\n",
       " 'into',\n",
       " 'through',\n",
       " 'during',\n",
       " 'before',\n",
       " 'after',\n",
       " 'above',\n",
       " 'below',\n",
       " 'to',\n",
       " 'from',\n",
       " 'up',\n",
       " 'down',\n",
       " 'in',\n",
       " 'out',\n",
       " 'on',\n",
       " 'off',\n",
       " 'over',\n",
       " 'under',\n",
       " 'again',\n",
       " 'further',\n",
       " 'then',\n",
       " 'once',\n",
       " 'here',\n",
       " 'there',\n",
       " 'when',\n",
       " 'where',\n",
       " 'why',\n",
       " 'how',\n",
       " 'all',\n",
       " 'any',\n",
       " 'both',\n",
       " 'each',\n",
       " 'few',\n",
       " 'more',\n",
       " 'most',\n",
       " 'other',\n",
       " 'some',\n",
       " 'such',\n",
       " 'no',\n",
       " 'nor',\n",
       " 'not',\n",
       " 'only',\n",
       " 'own',\n",
       " 'same',\n",
       " 'so',\n",
       " 'than',\n",
       " 'too',\n",
       " 'very',\n",
       " 's',\n",
       " 't',\n",
       " 'can',\n",
       " 'will',\n",
       " 'just',\n",
       " 'don',\n",
       " \"don't\",\n",
       " 'should',\n",
       " \"should've\",\n",
       " 'now',\n",
       " 'd',\n",
       " 'll',\n",
       " 'm',\n",
       " 'o',\n",
       " 're',\n",
       " 've',\n",
       " 'y',\n",
       " 'ain',\n",
       " 'aren',\n",
       " \"aren't\",\n",
       " 'couldn',\n",
       " \"couldn't\",\n",
       " 'didn',\n",
       " \"didn't\",\n",
       " 'doesn',\n",
       " \"doesn't\",\n",
       " 'hadn',\n",
       " \"hadn't\",\n",
       " 'hasn',\n",
       " \"hasn't\",\n",
       " 'haven',\n",
       " \"haven't\",\n",
       " 'isn',\n",
       " \"isn't\",\n",
       " 'ma',\n",
       " 'mightn',\n",
       " \"mightn't\",\n",
       " 'mustn',\n",
       " \"mustn't\",\n",
       " 'needn',\n",
       " \"needn't\",\n",
       " 'shan',\n",
       " \"shan't\",\n",
       " 'shouldn',\n",
       " \"shouldn't\",\n",
       " 'wasn',\n",
       " \"wasn't\",\n",
       " 'weren',\n",
       " \"weren't\",\n",
       " 'won',\n",
       " \"won't\",\n",
       " 'wouldn',\n",
       " \"wouldn't\"]"
      ]
     },
     "execution_count": 69,
     "metadata": {},
     "output_type": "execute_result"
    }
   ],
   "source": [
    "stopwords.words(\"english\")"
   ]
  },
  {
   "cell_type": "code",
   "execution_count": 71,
   "id": "ad991e61",
   "metadata": {},
   "outputs": [
    {
     "data": {
      "text/plain": [
       "179"
      ]
     },
     "execution_count": 71,
     "metadata": {},
     "output_type": "execute_result"
    }
   ],
   "source": [
    "len(stopwords.words(\"english\"))"
   ]
  },
  {
   "cell_type": "code",
   "execution_count": 72,
   "id": "0c16419a",
   "metadata": {},
   "outputs": [
    {
     "data": {
      "text/plain": [
       "[('art', 145),\n",
       " ('the', 9),\n",
       " ('of', 6),\n",
       " ('is', 5),\n",
       " ('intelligence', 5),\n",
       " ('ai', 5),\n",
       " ('.', 5),\n",
       " (',', 5),\n",
       " ('artificial', 4),\n",
       " ('and', 4)]"
      ]
     },
     "execution_count": 72,
     "metadata": {},
     "output_type": "execute_result"
    }
   ],
   "source": [
    "fdist_10"
   ]
  },
  {
   "cell_type": "code",
   "execution_count": 10,
   "id": "dd2c36a7",
   "metadata": {},
   "outputs": [],
   "source": [
    "import re\n",
    "puncuation = re.compile(r'[-.,?!:;()$%|0-9]')"
   ]
  },
  {
   "cell_type": "code",
   "execution_count": 88,
   "id": "476620a9",
   "metadata": {},
   "outputs": [],
   "source": []
  },
  {
   "cell_type": "code",
   "execution_count": 89,
   "id": "688a66f4",
   "metadata": {},
   "outputs": [],
   "source": [
    "post=[]\n",
    "for i in ai_tokens:\n",
    "    word= puncuation.sub(\"\",i)\n",
    "    if len(word)>0:\n",
    "        post.append(word)"
   ]
  },
  {
   "cell_type": "code",
   "execution_count": 90,
   "id": "26fd2cfc",
   "metadata": {},
   "outputs": [
    {
     "data": {
      "text/plain": [
       "['What',\n",
       " 'is',\n",
       " 'Artificial',\n",
       " 'Intelligence',\n",
       " 'A',\n",
       " 'Brief',\n",
       " 'History',\n",
       " 'of',\n",
       " 'AI',\n",
       " 'Artificial',\n",
       " 'Intelligence',\n",
       " 'Types',\n",
       " 'What',\n",
       " 'Is',\n",
       " 'the',\n",
       " 'Process',\n",
       " 'of',\n",
       " 'Artificial',\n",
       " 'Intelligence',\n",
       " 'AI',\n",
       " 'Implementation',\n",
       " 'Methods',\n",
       " 'See',\n",
       " 'More',\n",
       " 'Artificial',\n",
       " 'intelligence',\n",
       " 'AI',\n",
       " 'is',\n",
       " 'one',\n",
       " 'of',\n",
       " 'the',\n",
       " 'most',\n",
       " 'popular',\n",
       " 'terms',\n",
       " 'in',\n",
       " 'technology',\n",
       " 'and',\n",
       " 'for',\n",
       " 'good',\n",
       " 'reason',\n",
       " 'Several',\n",
       " 'inventions',\n",
       " 'and',\n",
       " 'developments',\n",
       " 'that',\n",
       " 'were',\n",
       " 'previously',\n",
       " 'only',\n",
       " 'possible',\n",
       " 'in',\n",
       " 'science',\n",
       " 'fiction',\n",
       " 'have',\n",
       " 'gradually',\n",
       " 'become',\n",
       " 'a',\n",
       " 'reality',\n",
       " 'in',\n",
       " 'recent',\n",
       " 'yearsArtificial',\n",
       " 'intelligence',\n",
       " 'is',\n",
       " 'viewed',\n",
       " 'as',\n",
       " 'a',\n",
       " 'factor',\n",
       " 'of',\n",
       " 'production',\n",
       " 'by',\n",
       " 'experts',\n",
       " 'with',\n",
       " 'the',\n",
       " 'ability',\n",
       " 'to',\n",
       " 'provide',\n",
       " 'new',\n",
       " 'sources',\n",
       " 'of',\n",
       " 'growth',\n",
       " 'and',\n",
       " 'modify',\n",
       " 'the',\n",
       " 'way',\n",
       " 'work',\n",
       " 'is',\n",
       " 'done',\n",
       " 'across',\n",
       " 'sectors',\n",
       " 'For',\n",
       " 'example',\n",
       " 'according',\n",
       " 'to',\n",
       " 'this',\n",
       " 'PWC',\n",
       " 'report',\n",
       " 'AI',\n",
       " 'might',\n",
       " 'contribute',\n",
       " 'trillion',\n",
       " 'to',\n",
       " 'the',\n",
       " 'global',\n",
       " 'economy',\n",
       " 'by',\n",
       " 'China',\n",
       " 'and',\n",
       " 'the',\n",
       " 'United',\n",
       " 'States',\n",
       " 'stand',\n",
       " 'to',\n",
       " 'gain',\n",
       " 'the',\n",
       " 'most',\n",
       " 'from',\n",
       " 'the',\n",
       " 'coming',\n",
       " 'AI',\n",
       " 'boom',\n",
       " 'accounting',\n",
       " 'for',\n",
       " 'nearly',\n",
       " 'of',\n",
       " 'the',\n",
       " 'global',\n",
       " 'impact']"
      ]
     },
     "execution_count": 90,
     "metadata": {},
     "output_type": "execute_result"
    }
   ],
   "source": [
    "post"
   ]
  },
  {
   "cell_type": "code",
   "execution_count": 91,
   "id": "23c1cffc",
   "metadata": {},
   "outputs": [],
   "source": [
    "# pos : tags and descriptions"
   ]
  },
  {
   "cell_type": "code",
   "execution_count": 92,
   "id": "04049058",
   "metadata": {},
   "outputs": [],
   "source": [
    "sent= \"mani is a natural when it comes to sports\""
   ]
  },
  {
   "cell_type": "code",
   "execution_count": 93,
   "id": "feb0e0a4",
   "metadata": {},
   "outputs": [],
   "source": [
    "sent_tokens= word_tokenize(sent)"
   ]
  },
  {
   "cell_type": "code",
   "execution_count": 97,
   "id": "4b27faab",
   "metadata": {},
   "outputs": [
    {
     "name": "stdout",
     "output_type": "stream",
     "text": [
      "[('mani', 'NN')]\n",
      "[('is', 'VBZ')]\n",
      "[('a', 'DT')]\n",
      "[('natural', 'JJ')]\n",
      "[('when', 'WRB')]\n",
      "[('it', 'PRP')]\n",
      "[('comes', 'VBZ')]\n",
      "[('to', 'TO')]\n",
      "[('sports', 'NNS')]\n"
     ]
    }
   ],
   "source": [
    "for i in sent_tokens:\n",
    "    print(nltk.pos_tag([i]))"
   ]
  },
  {
   "cell_type": "code",
   "execution_count": 96,
   "id": "3b088618",
   "metadata": {},
   "outputs": [],
   "source": [
    "# nltk.download('averaged_perceptron_tagger')"
   ]
  },
  {
   "cell_type": "code",
   "execution_count": 98,
   "id": "09ae96ea",
   "metadata": {},
   "outputs": [],
   "source": [
    "from nltk import ne_chunk"
   ]
  },
  {
   "cell_type": "code",
   "execution_count": 99,
   "id": "35088511",
   "metadata": {},
   "outputs": [],
   "source": [
    "ne_sent= \"the us presient stays in the white house\""
   ]
  },
  {
   "cell_type": "code",
   "execution_count": 100,
   "id": "ece0636c",
   "metadata": {},
   "outputs": [],
   "source": [
    "ne_tokens= word_tokenize(ne_sent)\n",
    "ne_tags= nltk.pos_tag(ne_tokens)"
   ]
  },
  {
   "cell_type": "code",
   "execution_count": 103,
   "id": "cb685205",
   "metadata": {},
   "outputs": [
    {
     "name": "stdout",
     "output_type": "stream",
     "text": [
      "(S\n",
      "  the/DT\n",
      "  us/PRP\n",
      "  presient/JJ\n",
      "  stays/NNS\n",
      "  in/IN\n",
      "  the/DT\n",
      "  white/JJ\n",
      "  house/NN)\n"
     ]
    }
   ],
   "source": [
    "ne_ner= ne_chunk(ne_tags)\n",
    "print(ne_ner)"
   ]
  },
  {
   "cell_type": "code",
   "execution_count": 102,
   "id": "22689f95",
   "metadata": {},
   "outputs": [
    {
     "name": "stderr",
     "output_type": "stream",
     "text": [
      "[nltk_data] Downloading package maxent_ne_chunker to\n",
      "[nltk_data]     C:\\Users\\91887\\AppData\\Roaming\\nltk_data...\n",
      "[nltk_data]   Unzipping chunkers\\maxent_ne_chunker.zip.\n"
     ]
    },
    {
     "data": {
      "text/plain": [
       "True"
      ]
     },
     "execution_count": 102,
     "metadata": {},
     "output_type": "execute_result"
    }
   ],
   "source": [
    "# nltk.download('maxent_ne_chunker')"
   ]
  },
  {
   "cell_type": "code",
   "execution_count": 104,
   "id": "5767f669",
   "metadata": {},
   "outputs": [],
   "source": [
    "#chunking"
   ]
  },
  {
   "cell_type": "code",
   "execution_count": 105,
   "id": "67dcc63c",
   "metadata": {},
   "outputs": [],
   "source": [
    "# picking up individual pieces of information and grouping them,into bigger pieces"
   ]
  },
  {
   "cell_type": "code",
   "execution_count": 106,
   "id": "823cf9a4",
   "metadata": {},
   "outputs": [],
   "source": [
    "new= \"the big cat ate the little mouse who was after fresh cheese\"\n",
    "new_t= nltk.pos_tag(word_tokenize(new))"
   ]
  },
  {
   "cell_type": "code",
   "execution_count": 107,
   "id": "5df501e7",
   "metadata": {},
   "outputs": [
    {
     "data": {
      "text/plain": [
       "[('the', 'DT'),\n",
       " ('big', 'JJ'),\n",
       " ('cat', 'NN'),\n",
       " ('ate', 'VBD'),\n",
       " ('the', 'DT'),\n",
       " ('little', 'JJ'),\n",
       " ('mouse', 'NN'),\n",
       " ('who', 'WP'),\n",
       " ('was', 'VBD'),\n",
       " ('after', 'IN'),\n",
       " ('fresh', 'JJ'),\n",
       " ('cheese', 'NN')]"
      ]
     },
     "execution_count": 107,
     "metadata": {},
     "output_type": "execute_result"
    }
   ],
   "source": [
    "new_t"
   ]
  },
  {
   "cell_type": "code",
   "execution_count": 3,
   "id": "26a294e1",
   "metadata": {},
   "outputs": [],
   "source": [
    "string=\"Tire Pressure Monitoring System - 4 Sensor & Repeater Package. Monitor the air pressure and temperature of up to 22 tires in real-time with the iN•Command Tire Pressure Monitoring System. The waterproof sensors use Bluetooth technology to communicate important safety information right to your smart device with the iN•Command TPMS App. . The repeater extends the Bluetooth signal for longer vehicle (up to 100 Meters or 300+ Feet) applications when mounted between the smartphone and rear tires. . Just open the Apple or Android App to assign a sensor to each tire by scanning the QR code with your device's camera to receive audible alerts and notifications.Features: Works with RVs, Trailers, Passenger Vehicles, and More, Each Tire can be Monitored Individually for Pressure and Temperature (F° or C°), Ability to Monitor up to 22 Tires at Once w/ the iN-Command app, Lets you Access Tire Pressure and Temperature History, Free App is Available on Android and Apple Smartphones, Pressure monitoring range: 0 to 185 PSI.In the Box:Four (4) Bluetooth-Enabled Tire Pressure Monitoring Sensors w/ Locking Anti-Theft Bolts, Four (4) 3V - CR1632 Batteries, Bluetooth Repeater, Installation Wrench, Instruction Manual.\""
   ]
  },
  {
   "cell_type": "code",
   "execution_count": 22,
   "id": "dedbe955",
   "metadata": {},
   "outputs": [
    {
     "data": {
      "text/plain": [
       "\"Tire Pressure Monitoring System - 4 Sensor & Repeater Package. Monitor the air pressure and temperature of up to 22 tires in real-time with the iN•Command Tire Pressure Monitoring System. The waterproof sensors use Bluetooth technology to communicate important safety information right to your smart device with the iN•Command TPMS App. . The repeater extends the Bluetooth signal for longer vehicle (up to 100 Meters or 300+ Feet) applications when mounted between the smartphone and rear tires. . Just open the Apple or Android App to assign a sensor to each tire by scanning the QR code with your device's camera to receive audible alerts and notifications.Features: Works with RVs, Trailers, Passenger Vehicles, and More, Each Tire can be Monitored Individually for Pressure and Temperature (F° or C°), Ability to Monitor up to 22 Tires at Once w/ the iN-Command app, Lets you Access Tire Pressure and Temperature History, Free App is Available on Android and Apple Smartphones, Pressure monitoring range: 0 to 185 PSI.In the Box:Four (4) Bluetooth-Enabled Tire Pressure Monitoring Sensors w/ Locking Anti-Theft Bolts, Four (4) 3V - CR1632 Batteries, Bluetooth Repeater, Installation Wrench, Instruction Manual.\""
      ]
     },
     "execution_count": 22,
     "metadata": {},
     "output_type": "execute_result"
    }
   ],
   "source": [
    "string"
   ]
  },
  {
   "cell_type": "code",
   "execution_count": 30,
   "id": "a669e5c2",
   "metadata": {},
   "outputs": [
    {
     "data": {
      "text/plain": [
       "1215"
      ]
     },
     "execution_count": 30,
     "metadata": {},
     "output_type": "execute_result"
    }
   ],
   "source": [
    "len(string)"
   ]
  },
  {
   "cell_type": "code",
   "execution_count": 23,
   "id": "b697f6e4",
   "metadata": {},
   "outputs": [
    {
     "name": "stderr",
     "output_type": "stream",
     "text": [
      "[nltk_data] Downloading package stopwords to\n",
      "[nltk_data]     C:\\Users\\91887\\AppData\\Roaming\\nltk_data...\n",
      "[nltk_data]   Package stopwords is already up-to-date!\n"
     ]
    }
   ],
   "source": [
    "import nltk\n",
    "nltk.download('stopwords')\n",
    "from nltk.corpus import stopwords\n",
    "from nltk.tokenize import word_tokenize\n",
    "\n",
    "# Your string\n",
    "# string = \"This is a sample string with some common words that will be removed.\"\n",
    "\n",
    "# Tokenize the string\n",
    "words = word_tokenize(string)\n",
    "\n",
    "# Get a list of stop words\n",
    "stop_words = set(stopwords.words('english'))\n",
    "\n",
    "# Remove stop words from the list of words\n",
    "filtered_words = [word for word in words if word.lower() not in stop_words]"
   ]
  },
  {
   "cell_type": "code",
   "execution_count": 24,
   "id": "b3df6b40",
   "metadata": {},
   "outputs": [
    {
     "data": {
      "text/plain": [
       "['Tire',\n",
       " 'Pressure',\n",
       " 'Monitoring',\n",
       " 'System',\n",
       " '-',\n",
       " '4',\n",
       " 'Sensor',\n",
       " '&',\n",
       " 'Repeater',\n",
       " 'Package',\n",
       " '.',\n",
       " 'Monitor',\n",
       " 'air',\n",
       " 'pressure',\n",
       " 'temperature',\n",
       " '22',\n",
       " 'tires',\n",
       " 'real-time',\n",
       " 'iN•Command',\n",
       " 'Tire',\n",
       " 'Pressure',\n",
       " 'Monitoring',\n",
       " 'System',\n",
       " '.',\n",
       " 'waterproof',\n",
       " 'sensors',\n",
       " 'use',\n",
       " 'Bluetooth',\n",
       " 'technology',\n",
       " 'communicate',\n",
       " 'important',\n",
       " 'safety',\n",
       " 'information',\n",
       " 'right',\n",
       " 'smart',\n",
       " 'device',\n",
       " 'iN•Command',\n",
       " 'TPMS',\n",
       " 'App.',\n",
       " '.',\n",
       " 'repeater',\n",
       " 'extends',\n",
       " 'Bluetooth',\n",
       " 'signal',\n",
       " 'longer',\n",
       " 'vehicle',\n",
       " '(',\n",
       " '100',\n",
       " 'Meters',\n",
       " '300+',\n",
       " 'Feet',\n",
       " ')',\n",
       " 'applications',\n",
       " 'mounted',\n",
       " 'smartphone',\n",
       " 'rear',\n",
       " 'tires.',\n",
       " '.',\n",
       " 'open',\n",
       " 'Apple',\n",
       " 'Android',\n",
       " 'App',\n",
       " 'assign',\n",
       " 'sensor',\n",
       " 'tire',\n",
       " 'scanning',\n",
       " 'QR',\n",
       " 'code',\n",
       " 'device',\n",
       " \"'s\",\n",
       " 'camera',\n",
       " 'receive',\n",
       " 'audible',\n",
       " 'alerts',\n",
       " 'notifications.Features',\n",
       " ':',\n",
       " 'Works',\n",
       " 'RVs',\n",
       " ',',\n",
       " 'Trailers',\n",
       " ',',\n",
       " 'Passenger',\n",
       " 'Vehicles',\n",
       " ',',\n",
       " ',',\n",
       " 'Tire',\n",
       " 'Monitored',\n",
       " 'Individually',\n",
       " 'Pressure',\n",
       " 'Temperature',\n",
       " '(',\n",
       " 'F°',\n",
       " 'C°',\n",
       " ')',\n",
       " ',',\n",
       " 'Ability',\n",
       " 'Monitor',\n",
       " '22',\n",
       " 'Tires',\n",
       " 'w/',\n",
       " 'iN-Command',\n",
       " 'app',\n",
       " ',',\n",
       " 'Lets',\n",
       " 'Access',\n",
       " 'Tire',\n",
       " 'Pressure',\n",
       " 'Temperature',\n",
       " 'History',\n",
       " ',',\n",
       " 'Free',\n",
       " 'App',\n",
       " 'Available',\n",
       " 'Android',\n",
       " 'Apple',\n",
       " 'Smartphones',\n",
       " ',',\n",
       " 'Pressure',\n",
       " 'monitoring',\n",
       " 'range',\n",
       " ':',\n",
       " '0',\n",
       " '185',\n",
       " 'PSI.In',\n",
       " 'Box',\n",
       " ':',\n",
       " 'Four',\n",
       " '(',\n",
       " '4',\n",
       " ')',\n",
       " 'Bluetooth-Enabled',\n",
       " 'Tire',\n",
       " 'Pressure',\n",
       " 'Monitoring',\n",
       " 'Sensors',\n",
       " 'w/',\n",
       " 'Locking',\n",
       " 'Anti-Theft',\n",
       " 'Bolts',\n",
       " ',',\n",
       " 'Four',\n",
       " '(',\n",
       " '4',\n",
       " ')',\n",
       " '3V',\n",
       " '-',\n",
       " 'CR1632',\n",
       " 'Batteries',\n",
       " ',',\n",
       " 'Bluetooth',\n",
       " 'Repeater',\n",
       " ',',\n",
       " 'Installation',\n",
       " 'Wrench',\n",
       " ',',\n",
       " 'Instruction',\n",
       " 'Manual',\n",
       " '.']"
      ]
     },
     "execution_count": 24,
     "metadata": {},
     "output_type": "execute_result"
    }
   ],
   "source": [
    "filtered_words"
   ]
  },
  {
   "cell_type": "code",
   "execution_count": 25,
   "id": "41aaf1ac",
   "metadata": {},
   "outputs": [],
   "source": [
    "puncuation = re.compile(r'[-.,?!:&+;()$%|0-9]')\n",
    "post=[]\n",
    "for i in filtered_words:\n",
    "    word= puncuation.sub(\"\",i)\n",
    "    if len(word)>0:\n",
    "        post.append(word)"
   ]
  },
  {
   "cell_type": "code",
   "execution_count": 26,
   "id": "cabe9a74",
   "metadata": {},
   "outputs": [
    {
     "data": {
      "text/plain": [
       "['Tire',\n",
       " 'Pressure',\n",
       " 'Monitoring',\n",
       " 'System',\n",
       " 'Sensor',\n",
       " 'Repeater',\n",
       " 'Package',\n",
       " 'Monitor',\n",
       " 'air',\n",
       " 'pressure',\n",
       " 'temperature',\n",
       " 'tires',\n",
       " 'realtime',\n",
       " 'iN•Command',\n",
       " 'Tire',\n",
       " 'Pressure',\n",
       " 'Monitoring',\n",
       " 'System',\n",
       " 'waterproof',\n",
       " 'sensors',\n",
       " 'use',\n",
       " 'Bluetooth',\n",
       " 'technology',\n",
       " 'communicate',\n",
       " 'important',\n",
       " 'safety',\n",
       " 'information',\n",
       " 'right',\n",
       " 'smart',\n",
       " 'device',\n",
       " 'iN•Command',\n",
       " 'TPMS',\n",
       " 'App',\n",
       " 'repeater',\n",
       " 'extends',\n",
       " 'Bluetooth',\n",
       " 'signal',\n",
       " 'longer',\n",
       " 'vehicle',\n",
       " 'Meters',\n",
       " 'Feet',\n",
       " 'applications',\n",
       " 'mounted',\n",
       " 'smartphone',\n",
       " 'rear',\n",
       " 'tires',\n",
       " 'open',\n",
       " 'Apple',\n",
       " 'Android',\n",
       " 'App',\n",
       " 'assign',\n",
       " 'sensor',\n",
       " 'tire',\n",
       " 'scanning',\n",
       " 'QR',\n",
       " 'code',\n",
       " 'device',\n",
       " \"'s\",\n",
       " 'camera',\n",
       " 'receive',\n",
       " 'audible',\n",
       " 'alerts',\n",
       " 'notificationsFeatures',\n",
       " 'Works',\n",
       " 'RVs',\n",
       " 'Trailers',\n",
       " 'Passenger',\n",
       " 'Vehicles',\n",
       " 'Tire',\n",
       " 'Monitored',\n",
       " 'Individually',\n",
       " 'Pressure',\n",
       " 'Temperature',\n",
       " 'F°',\n",
       " 'C°',\n",
       " 'Ability',\n",
       " 'Monitor',\n",
       " 'Tires',\n",
       " 'w/',\n",
       " 'iNCommand',\n",
       " 'app',\n",
       " 'Lets',\n",
       " 'Access',\n",
       " 'Tire',\n",
       " 'Pressure',\n",
       " 'Temperature',\n",
       " 'History',\n",
       " 'Free',\n",
       " 'App',\n",
       " 'Available',\n",
       " 'Android',\n",
       " 'Apple',\n",
       " 'Smartphones',\n",
       " 'Pressure',\n",
       " 'monitoring',\n",
       " 'range',\n",
       " 'PSIIn',\n",
       " 'Box',\n",
       " 'Four',\n",
       " 'BluetoothEnabled',\n",
       " 'Tire',\n",
       " 'Pressure',\n",
       " 'Monitoring',\n",
       " 'Sensors',\n",
       " 'w/',\n",
       " 'Locking',\n",
       " 'AntiTheft',\n",
       " 'Bolts',\n",
       " 'Four',\n",
       " 'V',\n",
       " 'CR',\n",
       " 'Batteries',\n",
       " 'Bluetooth',\n",
       " 'Repeater',\n",
       " 'Installation',\n",
       " 'Wrench',\n",
       " 'Instruction',\n",
       " 'Manual']"
      ]
     },
     "execution_count": 26,
     "metadata": {},
     "output_type": "execute_result"
    }
   ],
   "source": [
    "post"
   ]
  },
  {
   "cell_type": "code",
   "execution_count": 27,
   "id": "8c77bcbe",
   "metadata": {},
   "outputs": [],
   "source": [
    "from nltk.probability import FreqDist\n",
    "fdist= FreqDist()"
   ]
  },
  {
   "cell_type": "code",
   "execution_count": 28,
   "id": "21ad9eb3",
   "metadata": {},
   "outputs": [
    {
     "data": {
      "text/plain": [
       "FreqDist({'pressure': 7, 'tire': 6, 'monitoring': 4, 'app': 4, 'repeater': 3, 'temperature': 3, 'tires': 3, 'bluetooth': 3, 'system': 2, 'sensor': 2, ...})"
      ]
     },
     "execution_count": 28,
     "metadata": {},
     "output_type": "execute_result"
    }
   ],
   "source": [
    "for words in post:\n",
    "    fdist[words.lower()]+=1\n",
    "fdist  "
   ]
  }
 ],
 "metadata": {
  "kernelspec": {
   "display_name": "Python 3 (ipykernel)",
   "language": "python",
   "name": "python3"
  },
  "language_info": {
   "codemirror_mode": {
    "name": "ipython",
    "version": 3
   },
   "file_extension": ".py",
   "mimetype": "text/x-python",
   "name": "python",
   "nbconvert_exporter": "python",
   "pygments_lexer": "ipython3",
   "version": "3.7.13"
  }
 },
 "nbformat": 4,
 "nbformat_minor": 5
}
